{
 "cells": [
  {
   "cell_type": "code",
   "execution_count": 1,
   "id": "ace4a4a2",
   "metadata": {
    "_cell_guid": "b1076dfc-b9ad-4769-8c92-a6c4dae69d19",
    "_uuid": "8f2839f25d086af736a60e9eeb907d3b93b6e0e5",
    "execution": {
     "iopub.execute_input": "2024-02-03T11:37:55.519570Z",
     "iopub.status.busy": "2024-02-03T11:37:55.518908Z",
     "iopub.status.idle": "2024-02-03T11:37:56.470305Z",
     "shell.execute_reply": "2024-02-03T11:37:56.468992Z"
    },
    "papermill": {
     "duration": 0.966913,
     "end_time": "2024-02-03T11:37:56.473473",
     "exception": false,
     "start_time": "2024-02-03T11:37:55.506560",
     "status": "completed"
    },
    "tags": []
   },
   "outputs": [
    {
     "name": "stdout",
     "output_type": "stream",
     "text": [
      "/kaggle/input/playground-series-s4e1/sample_submission.csv\n",
      "/kaggle/input/playground-series-s4e1/train.csv\n",
      "/kaggle/input/playground-series-s4e1/test.csv\n"
     ]
    }
   ],
   "source": [
    "# This Python 3 environment comes with many helpful analytics libraries installed\n",
    "# It is defined by the kaggle/python Docker image: https://github.com/kaggle/docker-python\n",
    "# For example, here's several helpful packages to load\n",
    "\n",
    "import numpy as np # linear algebra\n",
    "import pandas as pd # data processing, CSV file I/O (e.g. pd.read_csv)\n",
    "\n",
    "# Input data files are available in the read-only \"../input/\" directory\n",
    "# For example, running this (by clicking run or pressing Shift+Enter) will list all files under the input directory\n",
    "\n",
    "import os\n",
    "for dirname, _, filenames in os.walk('/kaggle/input'):\n",
    "    for filename in filenames:\n",
    "        print(os.path.join(dirname, filename))\n",
    "\n",
    "# You can write up to 20GB to the current directory (/kaggle/working/) that gets preserved as output when you create a version using \"Save & Run All\" \n",
    "# You can also write temporary files to /kaggle/temp/, but they won't be saved outside of the current session"
   ]
  },
  {
   "cell_type": "markdown",
   "id": "1bcb87fc",
   "metadata": {
    "papermill": {
     "duration": 0.009768,
     "end_time": "2024-02-03T11:37:56.493484",
     "exception": false,
     "start_time": "2024-02-03T11:37:56.483716",
     "status": "completed"
    },
    "tags": []
   },
   "source": [
    "# ****Importing Libraries****"
   ]
  },
  {
   "cell_type": "code",
   "execution_count": 2,
   "id": "7af862da",
   "metadata": {
    "execution": {
     "iopub.execute_input": "2024-02-03T11:37:56.515527Z",
     "iopub.status.busy": "2024-02-03T11:37:56.514889Z",
     "iopub.status.idle": "2024-02-03T11:37:57.909586Z",
     "shell.execute_reply": "2024-02-03T11:37:57.908427Z"
    },
    "papermill": {
     "duration": 1.40935,
     "end_time": "2024-02-03T11:37:57.912579",
     "exception": false,
     "start_time": "2024-02-03T11:37:56.503229",
     "status": "completed"
    },
    "tags": []
   },
   "outputs": [],
   "source": [
    "#importing python libraries\n",
    "import pandas as pd\n",
    "import pylab as pl\n",
    "import numpy as np\n",
    "import scipy.optimize as opt\n",
    "from sklearn import preprocessing\n",
    "%matplotlib inline \n",
    "import matplotlib.pyplot as plt"
   ]
  },
  {
   "cell_type": "markdown",
   "id": "f1addb44",
   "metadata": {
    "papermill": {
     "duration": 0.009524,
     "end_time": "2024-02-03T11:37:57.931911",
     "exception": false,
     "start_time": "2024-02-03T11:37:57.922387",
     "status": "completed"
    },
    "tags": []
   },
   "source": [
    "\n",
    "# ****Loading the Data****"
   ]
  },
  {
   "cell_type": "code",
   "execution_count": 3,
   "id": "5bc94038",
   "metadata": {
    "execution": {
     "iopub.execute_input": "2024-02-03T11:37:57.953839Z",
     "iopub.status.busy": "2024-02-03T11:37:57.953191Z",
     "iopub.status.idle": "2024-02-03T11:37:58.521012Z",
     "shell.execute_reply": "2024-02-03T11:37:58.519845Z"
    },
    "papermill": {
     "duration": 0.582042,
     "end_time": "2024-02-03T11:37:58.523800",
     "exception": false,
     "start_time": "2024-02-03T11:37:57.941758",
     "status": "completed"
    },
    "tags": []
   },
   "outputs": [
    {
     "data": {
      "text/html": [
       "<div>\n",
       "<style scoped>\n",
       "    .dataframe tbody tr th:only-of-type {\n",
       "        vertical-align: middle;\n",
       "    }\n",
       "\n",
       "    .dataframe tbody tr th {\n",
       "        vertical-align: top;\n",
       "    }\n",
       "\n",
       "    .dataframe thead th {\n",
       "        text-align: right;\n",
       "    }\n",
       "</style>\n",
       "<table border=\"1\" class=\"dataframe\">\n",
       "  <thead>\n",
       "    <tr style=\"text-align: right;\">\n",
       "      <th></th>\n",
       "      <th>id</th>\n",
       "      <th>CustomerId</th>\n",
       "      <th>Surname</th>\n",
       "      <th>CreditScore</th>\n",
       "      <th>Geography</th>\n",
       "      <th>Gender</th>\n",
       "      <th>Age</th>\n",
       "      <th>Tenure</th>\n",
       "      <th>Balance</th>\n",
       "      <th>NumOfProducts</th>\n",
       "      <th>HasCrCard</th>\n",
       "      <th>IsActiveMember</th>\n",
       "      <th>EstimatedSalary</th>\n",
       "      <th>Exited</th>\n",
       "    </tr>\n",
       "  </thead>\n",
       "  <tbody>\n",
       "    <tr>\n",
       "      <th>0</th>\n",
       "      <td>0</td>\n",
       "      <td>15674932</td>\n",
       "      <td>Okwudilichukwu</td>\n",
       "      <td>668</td>\n",
       "      <td>France</td>\n",
       "      <td>Male</td>\n",
       "      <td>33.0</td>\n",
       "      <td>3</td>\n",
       "      <td>0.00</td>\n",
       "      <td>2</td>\n",
       "      <td>1.0</td>\n",
       "      <td>0.0</td>\n",
       "      <td>181449.97</td>\n",
       "      <td>0</td>\n",
       "    </tr>\n",
       "    <tr>\n",
       "      <th>1</th>\n",
       "      <td>1</td>\n",
       "      <td>15749177</td>\n",
       "      <td>Okwudiliolisa</td>\n",
       "      <td>627</td>\n",
       "      <td>France</td>\n",
       "      <td>Male</td>\n",
       "      <td>33.0</td>\n",
       "      <td>1</td>\n",
       "      <td>0.00</td>\n",
       "      <td>2</td>\n",
       "      <td>1.0</td>\n",
       "      <td>1.0</td>\n",
       "      <td>49503.50</td>\n",
       "      <td>0</td>\n",
       "    </tr>\n",
       "    <tr>\n",
       "      <th>2</th>\n",
       "      <td>2</td>\n",
       "      <td>15694510</td>\n",
       "      <td>Hsueh</td>\n",
       "      <td>678</td>\n",
       "      <td>France</td>\n",
       "      <td>Male</td>\n",
       "      <td>40.0</td>\n",
       "      <td>10</td>\n",
       "      <td>0.00</td>\n",
       "      <td>2</td>\n",
       "      <td>1.0</td>\n",
       "      <td>0.0</td>\n",
       "      <td>184866.69</td>\n",
       "      <td>0</td>\n",
       "    </tr>\n",
       "    <tr>\n",
       "      <th>3</th>\n",
       "      <td>3</td>\n",
       "      <td>15741417</td>\n",
       "      <td>Kao</td>\n",
       "      <td>581</td>\n",
       "      <td>France</td>\n",
       "      <td>Male</td>\n",
       "      <td>34.0</td>\n",
       "      <td>2</td>\n",
       "      <td>148882.54</td>\n",
       "      <td>1</td>\n",
       "      <td>1.0</td>\n",
       "      <td>1.0</td>\n",
       "      <td>84560.88</td>\n",
       "      <td>0</td>\n",
       "    </tr>\n",
       "    <tr>\n",
       "      <th>4</th>\n",
       "      <td>4</td>\n",
       "      <td>15766172</td>\n",
       "      <td>Chiemenam</td>\n",
       "      <td>716</td>\n",
       "      <td>Spain</td>\n",
       "      <td>Male</td>\n",
       "      <td>33.0</td>\n",
       "      <td>5</td>\n",
       "      <td>0.00</td>\n",
       "      <td>2</td>\n",
       "      <td>1.0</td>\n",
       "      <td>1.0</td>\n",
       "      <td>15068.83</td>\n",
       "      <td>0</td>\n",
       "    </tr>\n",
       "  </tbody>\n",
       "</table>\n",
       "</div>"
      ],
      "text/plain": [
       "   id  CustomerId         Surname  CreditScore Geography Gender   Age  Tenure  \\\n",
       "0   0    15674932  Okwudilichukwu          668    France   Male  33.0       3   \n",
       "1   1    15749177   Okwudiliolisa          627    France   Male  33.0       1   \n",
       "2   2    15694510           Hsueh          678    France   Male  40.0      10   \n",
       "3   3    15741417             Kao          581    France   Male  34.0       2   \n",
       "4   4    15766172       Chiemenam          716     Spain   Male  33.0       5   \n",
       "\n",
       "     Balance  NumOfProducts  HasCrCard  IsActiveMember  EstimatedSalary  \\\n",
       "0       0.00              2        1.0             0.0        181449.97   \n",
       "1       0.00              2        1.0             1.0         49503.50   \n",
       "2       0.00              2        1.0             0.0        184866.69   \n",
       "3  148882.54              1        1.0             1.0         84560.88   \n",
       "4       0.00              2        1.0             1.0         15068.83   \n",
       "\n",
       "   Exited  \n",
       "0       0  \n",
       "1       0  \n",
       "2       0  \n",
       "3       0  \n",
       "4       0  "
      ]
     },
     "execution_count": 3,
     "metadata": {},
     "output_type": "execute_result"
    }
   ],
   "source": [
    "#loading the data\n",
    "train_data = pd.read_csv('/kaggle/input/playground-series-s4e1/train.csv')\n",
    "train_data.head()"
   ]
  },
  {
   "cell_type": "markdown",
   "id": "c1fb0ac6",
   "metadata": {
    "papermill": {
     "duration": 0.00996,
     "end_time": "2024-02-03T11:37:58.543974",
     "exception": false,
     "start_time": "2024-02-03T11:37:58.534014",
     "status": "completed"
    },
    "tags": []
   },
   "source": [
    "# Exploring Data"
   ]
  },
  {
   "cell_type": "code",
   "execution_count": 4,
   "id": "c5f37b8e",
   "metadata": {
    "execution": {
     "iopub.execute_input": "2024-02-03T11:37:58.566081Z",
     "iopub.status.busy": "2024-02-03T11:37:58.565592Z",
     "iopub.status.idle": "2024-02-03T11:37:58.634371Z",
     "shell.execute_reply": "2024-02-03T11:37:58.633113Z"
    },
    "papermill": {
     "duration": 0.083234,
     "end_time": "2024-02-03T11:37:58.637282",
     "exception": false,
     "start_time": "2024-02-03T11:37:58.554048",
     "status": "completed"
    },
    "tags": []
   },
   "outputs": [
    {
     "data": {
      "text/plain": [
       "id                 0\n",
       "CustomerId         0\n",
       "Surname            0\n",
       "CreditScore        0\n",
       "Geography          0\n",
       "Gender             0\n",
       "Age                0\n",
       "Tenure             0\n",
       "Balance            0\n",
       "NumOfProducts      0\n",
       "HasCrCard          0\n",
       "IsActiveMember     0\n",
       "EstimatedSalary    0\n",
       "Exited             0\n",
       "dtype: int64"
      ]
     },
     "execution_count": 4,
     "metadata": {},
     "output_type": "execute_result"
    }
   ],
   "source": [
    "# finding null values\n",
    "train_data.isna().sum()"
   ]
  },
  {
   "cell_type": "code",
   "execution_count": 5,
   "id": "b88aa772",
   "metadata": {
    "execution": {
     "iopub.execute_input": "2024-02-03T11:37:58.661873Z",
     "iopub.status.busy": "2024-02-03T11:37:58.661188Z",
     "iopub.status.idle": "2024-02-03T11:37:58.749569Z",
     "shell.execute_reply": "2024-02-03T11:37:58.747302Z"
    },
    "papermill": {
     "duration": 0.103266,
     "end_time": "2024-02-03T11:37:58.752355",
     "exception": false,
     "start_time": "2024-02-03T11:37:58.649089",
     "status": "completed"
    },
    "tags": []
   },
   "outputs": [
    {
     "name": "stdout",
     "output_type": "stream",
     "text": [
      "<class 'pandas.core.frame.DataFrame'>\n",
      "RangeIndex: 165034 entries, 0 to 165033\n",
      "Data columns (total 14 columns):\n",
      " #   Column           Non-Null Count   Dtype  \n",
      "---  ------           --------------   -----  \n",
      " 0   id               165034 non-null  int64  \n",
      " 1   CustomerId       165034 non-null  int64  \n",
      " 2   Surname          165034 non-null  object \n",
      " 3   CreditScore      165034 non-null  int64  \n",
      " 4   Geography        165034 non-null  object \n",
      " 5   Gender           165034 non-null  object \n",
      " 6   Age              165034 non-null  float64\n",
      " 7   Tenure           165034 non-null  int64  \n",
      " 8   Balance          165034 non-null  float64\n",
      " 9   NumOfProducts    165034 non-null  int64  \n",
      " 10  HasCrCard        165034 non-null  float64\n",
      " 11  IsActiveMember   165034 non-null  float64\n",
      " 12  EstimatedSalary  165034 non-null  float64\n",
      " 13  Exited           165034 non-null  int64  \n",
      "dtypes: float64(5), int64(6), object(3)\n",
      "memory usage: 17.6+ MB\n"
     ]
    }
   ],
   "source": [
    "#checking data types of columns\n",
    "train_data.info()"
   ]
  },
  {
   "cell_type": "markdown",
   "id": "d0287cd1",
   "metadata": {
    "papermill": {
     "duration": 0.010007,
     "end_time": "2024-02-03T11:37:58.773890",
     "exception": false,
     "start_time": "2024-02-03T11:37:58.763883",
     "status": "completed"
    },
    "tags": []
   },
   "source": [
    "# Preprocessing The Data"
   ]
  },
  {
   "cell_type": "code",
   "execution_count": 6,
   "id": "3ee9bb2b",
   "metadata": {
    "execution": {
     "iopub.execute_input": "2024-02-03T11:37:58.796692Z",
     "iopub.status.busy": "2024-02-03T11:37:58.796267Z",
     "iopub.status.idle": "2024-02-03T11:37:59.587242Z",
     "shell.execute_reply": "2024-02-03T11:37:59.586160Z"
    },
    "papermill": {
     "duration": 0.806642,
     "end_time": "2024-02-03T11:37:59.590907",
     "exception": false,
     "start_time": "2024-02-03T11:37:58.784265",
     "status": "completed"
    },
    "tags": []
   },
   "outputs": [
    {
     "name": "stderr",
     "output_type": "stream",
     "text": [
      "/tmp/ipykernel_18/3602624293.py:3: FutureWarning: Downcasting behavior in `replace` is deprecated and will be removed in a future version. To retain the old behavior, explicitly call `result.infer_objects(copy=False)`. To opt-in to the future behavior, set `pd.set_option('future.no_silent_downcasting', True)`\n",
      "  train_data = train_data.replace({True: 1, False: 0})\n"
     ]
    }
   ],
   "source": [
    "# One-hot encode categorical columns 'Geography' and 'Gender' to numerical features\n",
    "train_data = pd.get_dummies(train_data, columns= ['Geography','Gender'])\n",
    "train_data = train_data.replace({True: 1, False: 0})\n"
   ]
  },
  {
   "cell_type": "code",
   "execution_count": 7,
   "id": "30e56c96",
   "metadata": {
    "execution": {
     "iopub.execute_input": "2024-02-03T11:37:59.618399Z",
     "iopub.status.busy": "2024-02-03T11:37:59.617850Z",
     "iopub.status.idle": "2024-02-03T11:37:59.629076Z",
     "shell.execute_reply": "2024-02-03T11:37:59.627648Z"
    },
    "papermill": {
     "duration": 0.025884,
     "end_time": "2024-02-03T11:37:59.631503",
     "exception": false,
     "start_time": "2024-02-03T11:37:59.605619",
     "status": "completed"
    },
    "tags": []
   },
   "outputs": [
    {
     "data": {
      "text/plain": [
       "id                     int64\n",
       "CustomerId             int64\n",
       "Surname               object\n",
       "CreditScore            int64\n",
       "Age                  float64\n",
       "Tenure                 int64\n",
       "Balance              float64\n",
       "NumOfProducts          int64\n",
       "HasCrCard            float64\n",
       "IsActiveMember       float64\n",
       "EstimatedSalary      float64\n",
       "Exited                 int64\n",
       "Geography_France       int64\n",
       "Geography_Germany      int64\n",
       "Geography_Spain        int64\n",
       "Gender_Female          int64\n",
       "Gender_Male            int64\n",
       "dtype: object"
      ]
     },
     "execution_count": 7,
     "metadata": {},
     "output_type": "execute_result"
    }
   ],
   "source": [
    "train_data.dtypes"
   ]
  },
  {
   "cell_type": "code",
   "execution_count": 8,
   "id": "8f194ccf",
   "metadata": {
    "execution": {
     "iopub.execute_input": "2024-02-03T11:37:59.656527Z",
     "iopub.status.busy": "2024-02-03T11:37:59.655095Z",
     "iopub.status.idle": "2024-02-03T11:37:59.671320Z",
     "shell.execute_reply": "2024-02-03T11:37:59.669705Z"
    },
    "papermill": {
     "duration": 0.031846,
     "end_time": "2024-02-03T11:37:59.674572",
     "exception": false,
     "start_time": "2024-02-03T11:37:59.642726",
     "status": "completed"
    },
    "tags": []
   },
   "outputs": [],
   "source": [
    "# change data type to int\n",
    "train_data['Age'] = train_data['Age'].astype(int)\n",
    "train_data['Balance'] = train_data['Balance'].astype(int)\n",
    "train_data['HasCrCard'] = train_data['HasCrCard'].astype(int)\n",
    "train_data['IsActiveMember'] = train_data['IsActiveMember'].astype(int)\n",
    "train_data['EstimatedSalary'] = train_data['EstimatedSalary'].astype(int)"
   ]
  },
  {
   "cell_type": "code",
   "execution_count": 9,
   "id": "f026178d",
   "metadata": {
    "execution": {
     "iopub.execute_input": "2024-02-03T11:37:59.698471Z",
     "iopub.status.busy": "2024-02-03T11:37:59.697450Z",
     "iopub.status.idle": "2024-02-03T11:37:59.705704Z",
     "shell.execute_reply": "2024-02-03T11:37:59.704857Z"
    },
    "papermill": {
     "duration": 0.022727,
     "end_time": "2024-02-03T11:37:59.707970",
     "exception": false,
     "start_time": "2024-02-03T11:37:59.685243",
     "status": "completed"
    },
    "tags": []
   },
   "outputs": [
    {
     "data": {
      "text/plain": [
       "id                    int64\n",
       "CustomerId            int64\n",
       "Surname              object\n",
       "CreditScore           int64\n",
       "Age                   int64\n",
       "Tenure                int64\n",
       "Balance               int64\n",
       "NumOfProducts         int64\n",
       "HasCrCard             int64\n",
       "IsActiveMember        int64\n",
       "EstimatedSalary       int64\n",
       "Exited                int64\n",
       "Geography_France      int64\n",
       "Geography_Germany     int64\n",
       "Geography_Spain       int64\n",
       "Gender_Female         int64\n",
       "Gender_Male           int64\n",
       "dtype: object"
      ]
     },
     "execution_count": 9,
     "metadata": {},
     "output_type": "execute_result"
    }
   ],
   "source": [
    "train_data.dtypes"
   ]
  },
  {
   "cell_type": "code",
   "execution_count": 10,
   "id": "2ede64e7",
   "metadata": {
    "execution": {
     "iopub.execute_input": "2024-02-03T11:37:59.732911Z",
     "iopub.status.busy": "2024-02-03T11:37:59.732201Z",
     "iopub.status.idle": "2024-02-03T11:37:59.745272Z",
     "shell.execute_reply": "2024-02-03T11:37:59.744238Z"
    },
    "papermill": {
     "duration": 0.028387,
     "end_time": "2024-02-03T11:37:59.747854",
     "exception": false,
     "start_time": "2024-02-03T11:37:59.719467",
     "status": "completed"
    },
    "tags": []
   },
   "outputs": [],
   "source": [
    "# creates a feature  'X' with specific attributes from the 'train_data' dataset .\n",
    "X = train_data[['CreditScore', 'Age', 'Tenure', 'Balance', 'NumOfProducts', 'HasCrCard', 'IsActiveMember',\n",
    "            'EstimatedSalary', 'Geography_Germany', 'Geography_Spain', 'Geography_France','Gender_Male','Gender_Female']]"
   ]
  },
  {
   "cell_type": "code",
   "execution_count": 11,
   "id": "fb5c8198",
   "metadata": {
    "execution": {
     "iopub.execute_input": "2024-02-03T11:37:59.771957Z",
     "iopub.status.busy": "2024-02-03T11:37:59.771253Z",
     "iopub.status.idle": "2024-02-03T11:37:59.787024Z",
     "shell.execute_reply": "2024-02-03T11:37:59.785624Z"
    },
    "papermill": {
     "duration": 0.030894,
     "end_time": "2024-02-03T11:37:59.789441",
     "exception": false,
     "start_time": "2024-02-03T11:37:59.758547",
     "status": "completed"
    },
    "tags": []
   },
   "outputs": [
    {
     "data": {
      "text/html": [
       "<div>\n",
       "<style scoped>\n",
       "    .dataframe tbody tr th:only-of-type {\n",
       "        vertical-align: middle;\n",
       "    }\n",
       "\n",
       "    .dataframe tbody tr th {\n",
       "        vertical-align: top;\n",
       "    }\n",
       "\n",
       "    .dataframe thead th {\n",
       "        text-align: right;\n",
       "    }\n",
       "</style>\n",
       "<table border=\"1\" class=\"dataframe\">\n",
       "  <thead>\n",
       "    <tr style=\"text-align: right;\">\n",
       "      <th></th>\n",
       "      <th>CreditScore</th>\n",
       "      <th>Age</th>\n",
       "      <th>Tenure</th>\n",
       "      <th>Balance</th>\n",
       "      <th>NumOfProducts</th>\n",
       "      <th>HasCrCard</th>\n",
       "      <th>IsActiveMember</th>\n",
       "      <th>EstimatedSalary</th>\n",
       "      <th>Geography_Germany</th>\n",
       "      <th>Geography_Spain</th>\n",
       "      <th>Geography_France</th>\n",
       "      <th>Gender_Male</th>\n",
       "      <th>Gender_Female</th>\n",
       "    </tr>\n",
       "  </thead>\n",
       "  <tbody>\n",
       "    <tr>\n",
       "      <th>0</th>\n",
       "      <td>668</td>\n",
       "      <td>33</td>\n",
       "      <td>3</td>\n",
       "      <td>0</td>\n",
       "      <td>2</td>\n",
       "      <td>1</td>\n",
       "      <td>0</td>\n",
       "      <td>181449</td>\n",
       "      <td>0</td>\n",
       "      <td>0</td>\n",
       "      <td>1</td>\n",
       "      <td>1</td>\n",
       "      <td>0</td>\n",
       "    </tr>\n",
       "    <tr>\n",
       "      <th>1</th>\n",
       "      <td>627</td>\n",
       "      <td>33</td>\n",
       "      <td>1</td>\n",
       "      <td>0</td>\n",
       "      <td>2</td>\n",
       "      <td>1</td>\n",
       "      <td>1</td>\n",
       "      <td>49503</td>\n",
       "      <td>0</td>\n",
       "      <td>0</td>\n",
       "      <td>1</td>\n",
       "      <td>1</td>\n",
       "      <td>0</td>\n",
       "    </tr>\n",
       "    <tr>\n",
       "      <th>2</th>\n",
       "      <td>678</td>\n",
       "      <td>40</td>\n",
       "      <td>10</td>\n",
       "      <td>0</td>\n",
       "      <td>2</td>\n",
       "      <td>1</td>\n",
       "      <td>0</td>\n",
       "      <td>184866</td>\n",
       "      <td>0</td>\n",
       "      <td>0</td>\n",
       "      <td>1</td>\n",
       "      <td>1</td>\n",
       "      <td>0</td>\n",
       "    </tr>\n",
       "    <tr>\n",
       "      <th>3</th>\n",
       "      <td>581</td>\n",
       "      <td>34</td>\n",
       "      <td>2</td>\n",
       "      <td>148882</td>\n",
       "      <td>1</td>\n",
       "      <td>1</td>\n",
       "      <td>1</td>\n",
       "      <td>84560</td>\n",
       "      <td>0</td>\n",
       "      <td>0</td>\n",
       "      <td>1</td>\n",
       "      <td>1</td>\n",
       "      <td>0</td>\n",
       "    </tr>\n",
       "    <tr>\n",
       "      <th>4</th>\n",
       "      <td>716</td>\n",
       "      <td>33</td>\n",
       "      <td>5</td>\n",
       "      <td>0</td>\n",
       "      <td>2</td>\n",
       "      <td>1</td>\n",
       "      <td>1</td>\n",
       "      <td>15068</td>\n",
       "      <td>0</td>\n",
       "      <td>1</td>\n",
       "      <td>0</td>\n",
       "      <td>1</td>\n",
       "      <td>0</td>\n",
       "    </tr>\n",
       "  </tbody>\n",
       "</table>\n",
       "</div>"
      ],
      "text/plain": [
       "   CreditScore  Age  Tenure  Balance  NumOfProducts  HasCrCard  \\\n",
       "0          668   33       3        0              2          1   \n",
       "1          627   33       1        0              2          1   \n",
       "2          678   40      10        0              2          1   \n",
       "3          581   34       2   148882              1          1   \n",
       "4          716   33       5        0              2          1   \n",
       "\n",
       "   IsActiveMember  EstimatedSalary  Geography_Germany  Geography_Spain  \\\n",
       "0               0           181449                  0                0   \n",
       "1               1            49503                  0                0   \n",
       "2               0           184866                  0                0   \n",
       "3               1            84560                  0                0   \n",
       "4               1            15068                  0                1   \n",
       "\n",
       "   Geography_France  Gender_Male  Gender_Female  \n",
       "0                 1            1              0  \n",
       "1                 1            1              0  \n",
       "2                 1            1              0  \n",
       "3                 1            1              0  \n",
       "4                 0            1              0  "
      ]
     },
     "execution_count": 11,
     "metadata": {},
     "output_type": "execute_result"
    }
   ],
   "source": [
    "X.head()"
   ]
  },
  {
   "cell_type": "markdown",
   "id": "28432d34",
   "metadata": {
    "papermill": {
     "duration": 0.011219,
     "end_time": "2024-02-03T11:37:59.811841",
     "exception": false,
     "start_time": "2024-02-03T11:37:59.800622",
     "status": "completed"
    },
    "tags": []
   },
   "source": [
    "# Training Model"
   ]
  },
  {
   "cell_type": "code",
   "execution_count": 12,
   "id": "2229dd8e",
   "metadata": {
    "execution": {
     "iopub.execute_input": "2024-02-03T11:37:59.837593Z",
     "iopub.status.busy": "2024-02-03T11:37:59.836794Z",
     "iopub.status.idle": "2024-02-03T11:37:59.849816Z",
     "shell.execute_reply": "2024-02-03T11:37:59.848526Z"
    },
    "papermill": {
     "duration": 0.02908,
     "end_time": "2024-02-03T11:37:59.852461",
     "exception": false,
     "start_time": "2024-02-03T11:37:59.823381",
     "status": "completed"
    },
    "tags": []
   },
   "outputs": [
    {
     "name": "stdout",
     "output_type": "stream",
     "text": [
      "<class 'pandas.core.frame.DataFrame'>\n",
      "RangeIndex: 165034 entries, 0 to 165033\n",
      "Data columns (total 1 columns):\n",
      " #   Column  Non-Null Count   Dtype\n",
      "---  ------  --------------   -----\n",
      " 0   Exited  165034 non-null  int64\n",
      "dtypes: int64(1)\n",
      "memory usage: 1.3 MB\n"
     ]
    }
   ],
   "source": [
    "#training target dataset\n",
    "Y = train_data[['Exited']]\n",
    "Y.info()\n",
    "\n",
    "\n"
   ]
  },
  {
   "cell_type": "code",
   "execution_count": 13,
   "id": "857a4c05",
   "metadata": {
    "execution": {
     "iopub.execute_input": "2024-02-03T11:37:59.877584Z",
     "iopub.status.busy": "2024-02-03T11:37:59.877004Z",
     "iopub.status.idle": "2024-02-03T11:38:00.017918Z",
     "shell.execute_reply": "2024-02-03T11:38:00.016464Z"
    },
    "papermill": {
     "duration": 0.157851,
     "end_time": "2024-02-03T11:38:00.021628",
     "exception": false,
     "start_time": "2024-02-03T11:37:59.863777",
     "status": "completed"
    },
    "tags": []
   },
   "outputs": [],
   "source": [
    "#Split data into training and testing sets for model evaluation.\n",
    "# X_test_ is the validation dataset \n",
    "from sklearn.model_selection import train_test_split\n",
    "X_train, X_test_, y_train, y_test_ = train_test_split(X, Y, test_size=0.2, random_state=42)"
   ]
  },
  {
   "cell_type": "code",
   "execution_count": 14,
   "id": "4db28f1d",
   "metadata": {
    "execution": {
     "iopub.execute_input": "2024-02-03T11:38:00.047505Z",
     "iopub.status.busy": "2024-02-03T11:38:00.047090Z",
     "iopub.status.idle": "2024-02-03T11:38:00.401841Z",
     "shell.execute_reply": "2024-02-03T11:38:00.400411Z"
    },
    "papermill": {
     "duration": 0.371572,
     "end_time": "2024-02-03T11:38:00.405182",
     "exception": false,
     "start_time": "2024-02-03T11:38:00.033610",
     "status": "completed"
    },
    "tags": []
   },
   "outputs": [],
   "source": [
    "from sklearn.linear_model import LogisticRegression\n",
    "from sklearn.ensemble import RandomForestClassifier\n"
   ]
  },
  {
   "cell_type": "code",
   "execution_count": 15,
   "id": "ba9c1eaa",
   "metadata": {
    "execution": {
     "iopub.execute_input": "2024-02-03T11:38:00.433195Z",
     "iopub.status.busy": "2024-02-03T11:38:00.430701Z",
     "iopub.status.idle": "2024-02-03T11:38:31.259267Z",
     "shell.execute_reply": "2024-02-03T11:38:31.257712Z"
    },
    "papermill": {
     "duration": 30.856542,
     "end_time": "2024-02-03T11:38:31.273156",
     "exception": false,
     "start_time": "2024-02-03T11:38:00.416614",
     "status": "completed"
    },
    "tags": []
   },
   "outputs": [
    {
     "name": "stderr",
     "output_type": "stream",
     "text": [
      "/tmp/ipykernel_18/872325953.py:3: DataConversionWarning: A column-vector y was passed when a 1d array was expected. Please change the shape of y to (n_samples,), for example using ravel().\n",
      "  model.fit(X_train, y_train)\n"
     ]
    },
    {
     "data": {
      "text/html": [
       "<style>#sk-container-id-1 {color: black;background-color: white;}#sk-container-id-1 pre{padding: 0;}#sk-container-id-1 div.sk-toggleable {background-color: white;}#sk-container-id-1 label.sk-toggleable__label {cursor: pointer;display: block;width: 100%;margin-bottom: 0;padding: 0.3em;box-sizing: border-box;text-align: center;}#sk-container-id-1 label.sk-toggleable__label-arrow:before {content: \"▸\";float: left;margin-right: 0.25em;color: #696969;}#sk-container-id-1 label.sk-toggleable__label-arrow:hover:before {color: black;}#sk-container-id-1 div.sk-estimator:hover label.sk-toggleable__label-arrow:before {color: black;}#sk-container-id-1 div.sk-toggleable__content {max-height: 0;max-width: 0;overflow: hidden;text-align: left;background-color: #f0f8ff;}#sk-container-id-1 div.sk-toggleable__content pre {margin: 0.2em;color: black;border-radius: 0.25em;background-color: #f0f8ff;}#sk-container-id-1 input.sk-toggleable__control:checked~div.sk-toggleable__content {max-height: 200px;max-width: 100%;overflow: auto;}#sk-container-id-1 input.sk-toggleable__control:checked~label.sk-toggleable__label-arrow:before {content: \"▾\";}#sk-container-id-1 div.sk-estimator input.sk-toggleable__control:checked~label.sk-toggleable__label {background-color: #d4ebff;}#sk-container-id-1 div.sk-label input.sk-toggleable__control:checked~label.sk-toggleable__label {background-color: #d4ebff;}#sk-container-id-1 input.sk-hidden--visually {border: 0;clip: rect(1px 1px 1px 1px);clip: rect(1px, 1px, 1px, 1px);height: 1px;margin: -1px;overflow: hidden;padding: 0;position: absolute;width: 1px;}#sk-container-id-1 div.sk-estimator {font-family: monospace;background-color: #f0f8ff;border: 1px dotted black;border-radius: 0.25em;box-sizing: border-box;margin-bottom: 0.5em;}#sk-container-id-1 div.sk-estimator:hover {background-color: #d4ebff;}#sk-container-id-1 div.sk-parallel-item::after {content: \"\";width: 100%;border-bottom: 1px solid gray;flex-grow: 1;}#sk-container-id-1 div.sk-label:hover label.sk-toggleable__label {background-color: #d4ebff;}#sk-container-id-1 div.sk-serial::before {content: \"\";position: absolute;border-left: 1px solid gray;box-sizing: border-box;top: 0;bottom: 0;left: 50%;z-index: 0;}#sk-container-id-1 div.sk-serial {display: flex;flex-direction: column;align-items: center;background-color: white;padding-right: 0.2em;padding-left: 0.2em;position: relative;}#sk-container-id-1 div.sk-item {position: relative;z-index: 1;}#sk-container-id-1 div.sk-parallel {display: flex;align-items: stretch;justify-content: center;background-color: white;position: relative;}#sk-container-id-1 div.sk-item::before, #sk-container-id-1 div.sk-parallel-item::before {content: \"\";position: absolute;border-left: 1px solid gray;box-sizing: border-box;top: 0;bottom: 0;left: 50%;z-index: -1;}#sk-container-id-1 div.sk-parallel-item {display: flex;flex-direction: column;z-index: 1;position: relative;background-color: white;}#sk-container-id-1 div.sk-parallel-item:first-child::after {align-self: flex-end;width: 50%;}#sk-container-id-1 div.sk-parallel-item:last-child::after {align-self: flex-start;width: 50%;}#sk-container-id-1 div.sk-parallel-item:only-child::after {width: 0;}#sk-container-id-1 div.sk-dashed-wrapped {border: 1px dashed gray;margin: 0 0.4em 0.5em 0.4em;box-sizing: border-box;padding-bottom: 0.4em;background-color: white;}#sk-container-id-1 div.sk-label label {font-family: monospace;font-weight: bold;display: inline-block;line-height: 1.2em;}#sk-container-id-1 div.sk-label-container {text-align: center;}#sk-container-id-1 div.sk-container {/* jupyter's `normalize.less` sets `[hidden] { display: none; }` but bootstrap.min.css set `[hidden] { display: none !important; }` so we also need the `!important` here to be able to override the default hidden behavior on the sphinx rendered scikit-learn.org. See: https://github.com/scikit-learn/scikit-learn/issues/21755 */display: inline-block !important;position: relative;}#sk-container-id-1 div.sk-text-repr-fallback {display: none;}</style><div id=\"sk-container-id-1\" class=\"sk-top-container\"><div class=\"sk-text-repr-fallback\"><pre>RandomForestClassifier(max_depth=10, min_samples_split=5, n_estimators=200,\n",
       "                       random_state=42)</pre><b>In a Jupyter environment, please rerun this cell to show the HTML representation or trust the notebook. <br />On GitHub, the HTML representation is unable to render, please try loading this page with nbviewer.org.</b></div><div class=\"sk-container\" hidden><div class=\"sk-item\"><div class=\"sk-estimator sk-toggleable\"><input class=\"sk-toggleable__control sk-hidden--visually\" id=\"sk-estimator-id-1\" type=\"checkbox\" checked><label for=\"sk-estimator-id-1\" class=\"sk-toggleable__label sk-toggleable__label-arrow\">RandomForestClassifier</label><div class=\"sk-toggleable__content\"><pre>RandomForestClassifier(max_depth=10, min_samples_split=5, n_estimators=200,\n",
       "                       random_state=42)</pre></div></div></div></div></div>"
      ],
      "text/plain": [
       "RandomForestClassifier(max_depth=10, min_samples_split=5, n_estimators=200,\n",
       "                       random_state=42)"
      ]
     },
     "execution_count": 15,
     "metadata": {},
     "output_type": "execute_result"
    }
   ],
   "source": [
    "# fit the training data into Random Forest Classifier Model\n",
    "model = RandomForestClassifier(random_state=42, max_depth=10, min_samples_leaf=1, min_samples_split=5, n_estimators=200)\n",
    "model.fit(X_train, y_train)"
   ]
  },
  {
   "cell_type": "code",
   "execution_count": 16,
   "id": "eb293d4b",
   "metadata": {
    "execution": {
     "iopub.execute_input": "2024-02-03T11:38:31.298295Z",
     "iopub.status.busy": "2024-02-03T11:38:31.297783Z",
     "iopub.status.idle": "2024-02-03T11:38:32.187895Z",
     "shell.execute_reply": "2024-02-03T11:38:32.186429Z"
    },
    "papermill": {
     "duration": 0.906088,
     "end_time": "2024-02-03T11:38:32.190630",
     "exception": false,
     "start_time": "2024-02-03T11:38:31.284542",
     "status": "completed"
    },
    "tags": []
   },
   "outputs": [
    {
     "data": {
      "text/plain": [
       "array([0, 0, 1, ..., 0, 0, 0])"
      ]
     },
     "execution_count": 16,
     "metadata": {},
     "output_type": "execute_result"
    }
   ],
   "source": [
    "# Predict the Test Dataset\n",
    "yhat = model.predict(X_test_)\n",
    "yhat"
   ]
  },
  {
   "cell_type": "code",
   "execution_count": 17,
   "id": "b49d7599",
   "metadata": {
    "execution": {
     "iopub.execute_input": "2024-02-03T11:38:32.217098Z",
     "iopub.status.busy": "2024-02-03T11:38:32.216687Z",
     "iopub.status.idle": "2024-02-03T11:38:33.091352Z",
     "shell.execute_reply": "2024-02-03T11:38:33.089963Z"
    },
    "papermill": {
     "duration": 0.891025,
     "end_time": "2024-02-03T11:38:33.094014",
     "exception": false,
     "start_time": "2024-02-03T11:38:32.202989",
     "status": "completed"
    },
    "tags": []
   },
   "outputs": [
    {
     "data": {
      "text/plain": [
       "array([0.17926526, 0.02901825, 0.66835209, ..., 0.45541545, 0.02355721,\n",
       "       0.08071479])"
      ]
     },
     "execution_count": 17,
     "metadata": {},
     "output_type": "execute_result"
    }
   ],
   "source": [
    "#Calculate predicted probabilities for positive class (churn) on the Validation set (X_test_) \n",
    "yhat_prob = model.predict_proba(X_test_)[:, 1]\n",
    "yhat_prob"
   ]
  },
  {
   "cell_type": "code",
   "execution_count": 18,
   "id": "52f9591c",
   "metadata": {
    "execution": {
     "iopub.execute_input": "2024-02-03T11:38:33.120705Z",
     "iopub.status.busy": "2024-02-03T11:38:33.120304Z",
     "iopub.status.idle": "2024-02-03T11:38:33.143659Z",
     "shell.execute_reply": "2024-02-03T11:38:33.142373Z"
    },
    "papermill": {
     "duration": 0.040301,
     "end_time": "2024-02-03T11:38:33.146670",
     "exception": false,
     "start_time": "2024-02-03T11:38:33.106369",
     "status": "completed"
    },
    "tags": []
   },
   "outputs": [
    {
     "name": "stdout",
     "output_type": "stream",
     "text": [
      "ROC AUC on validation set: 0.7366172758724105\n"
     ]
    }
   ],
   "source": [
    " # Calculate AUC for validation set (X_test_)\n",
    "from sklearn.metrics import roc_auc_score\n",
    "roc_auc = roc_auc_score(y_test_,yhat)\n",
    "print(f'ROC AUC on validation set: {roc_auc}')"
   ]
  },
  {
   "cell_type": "code",
   "execution_count": 19,
   "id": "e49eff54",
   "metadata": {
    "execution": {
     "iopub.execute_input": "2024-02-03T11:38:33.172893Z",
     "iopub.status.busy": "2024-02-03T11:38:33.172418Z",
     "iopub.status.idle": "2024-02-03T11:38:34.040930Z",
     "shell.execute_reply": "2024-02-03T11:38:34.039674Z"
    },
    "papermill": {
     "duration": 0.884717,
     "end_time": "2024-02-03T11:38:34.043493",
     "exception": false,
     "start_time": "2024-02-03T11:38:33.158776",
     "status": "completed"
    },
    "tags": []
   },
   "outputs": [
    {
     "name": "stderr",
     "output_type": "stream",
     "text": [
      "/tmp/ipykernel_18/1856476195.py:6: FutureWarning: Downcasting behavior in `replace` is deprecated and will be removed in a future version. To retain the old behavior, explicitly call `result.infer_objects(copy=False)`. To opt-in to the future behavior, set `pd.set_option('future.no_silent_downcasting', True)`\n",
      "  test_data = test_data.replace({True: 1, False: 0})\n"
     ]
    },
    {
     "data": {
      "text/html": [
       "<div>\n",
       "<style scoped>\n",
       "    .dataframe tbody tr th:only-of-type {\n",
       "        vertical-align: middle;\n",
       "    }\n",
       "\n",
       "    .dataframe tbody tr th {\n",
       "        vertical-align: top;\n",
       "    }\n",
       "\n",
       "    .dataframe thead th {\n",
       "        text-align: right;\n",
       "    }\n",
       "</style>\n",
       "<table border=\"1\" class=\"dataframe\">\n",
       "  <thead>\n",
       "    <tr style=\"text-align: right;\">\n",
       "      <th></th>\n",
       "      <th>id</th>\n",
       "      <th>CustomerId</th>\n",
       "      <th>Surname</th>\n",
       "      <th>CreditScore</th>\n",
       "      <th>Age</th>\n",
       "      <th>Tenure</th>\n",
       "      <th>Balance</th>\n",
       "      <th>NumOfProducts</th>\n",
       "      <th>HasCrCard</th>\n",
       "      <th>IsActiveMember</th>\n",
       "      <th>EstimatedSalary</th>\n",
       "      <th>Geography_France</th>\n",
       "      <th>Geography_Germany</th>\n",
       "      <th>Geography_Spain</th>\n",
       "      <th>Gender_Female</th>\n",
       "      <th>Gender_Male</th>\n",
       "    </tr>\n",
       "  </thead>\n",
       "  <tbody>\n",
       "    <tr>\n",
       "      <th>0</th>\n",
       "      <td>165034</td>\n",
       "      <td>15773898</td>\n",
       "      <td>Lucchese</td>\n",
       "      <td>586</td>\n",
       "      <td>23.0</td>\n",
       "      <td>2</td>\n",
       "      <td>0.00</td>\n",
       "      <td>2</td>\n",
       "      <td>0.0</td>\n",
       "      <td>1.0</td>\n",
       "      <td>160976.75</td>\n",
       "      <td>1</td>\n",
       "      <td>0</td>\n",
       "      <td>0</td>\n",
       "      <td>1</td>\n",
       "      <td>0</td>\n",
       "    </tr>\n",
       "    <tr>\n",
       "      <th>1</th>\n",
       "      <td>165035</td>\n",
       "      <td>15782418</td>\n",
       "      <td>Nott</td>\n",
       "      <td>683</td>\n",
       "      <td>46.0</td>\n",
       "      <td>2</td>\n",
       "      <td>0.00</td>\n",
       "      <td>1</td>\n",
       "      <td>1.0</td>\n",
       "      <td>0.0</td>\n",
       "      <td>72549.27</td>\n",
       "      <td>1</td>\n",
       "      <td>0</td>\n",
       "      <td>0</td>\n",
       "      <td>1</td>\n",
       "      <td>0</td>\n",
       "    </tr>\n",
       "    <tr>\n",
       "      <th>2</th>\n",
       "      <td>165036</td>\n",
       "      <td>15807120</td>\n",
       "      <td>K?</td>\n",
       "      <td>656</td>\n",
       "      <td>34.0</td>\n",
       "      <td>7</td>\n",
       "      <td>0.00</td>\n",
       "      <td>2</td>\n",
       "      <td>1.0</td>\n",
       "      <td>0.0</td>\n",
       "      <td>138882.09</td>\n",
       "      <td>1</td>\n",
       "      <td>0</td>\n",
       "      <td>0</td>\n",
       "      <td>1</td>\n",
       "      <td>0</td>\n",
       "    </tr>\n",
       "    <tr>\n",
       "      <th>3</th>\n",
       "      <td>165037</td>\n",
       "      <td>15808905</td>\n",
       "      <td>O'Donnell</td>\n",
       "      <td>681</td>\n",
       "      <td>36.0</td>\n",
       "      <td>8</td>\n",
       "      <td>0.00</td>\n",
       "      <td>1</td>\n",
       "      <td>1.0</td>\n",
       "      <td>0.0</td>\n",
       "      <td>113931.57</td>\n",
       "      <td>1</td>\n",
       "      <td>0</td>\n",
       "      <td>0</td>\n",
       "      <td>0</td>\n",
       "      <td>1</td>\n",
       "    </tr>\n",
       "    <tr>\n",
       "      <th>4</th>\n",
       "      <td>165038</td>\n",
       "      <td>15607314</td>\n",
       "      <td>Higgins</td>\n",
       "      <td>752</td>\n",
       "      <td>38.0</td>\n",
       "      <td>10</td>\n",
       "      <td>121263.62</td>\n",
       "      <td>1</td>\n",
       "      <td>1.0</td>\n",
       "      <td>0.0</td>\n",
       "      <td>139431.00</td>\n",
       "      <td>0</td>\n",
       "      <td>1</td>\n",
       "      <td>0</td>\n",
       "      <td>0</td>\n",
       "      <td>1</td>\n",
       "    </tr>\n",
       "  </tbody>\n",
       "</table>\n",
       "</div>"
      ],
      "text/plain": [
       "       id  CustomerId    Surname  CreditScore   Age  Tenure    Balance  \\\n",
       "0  165034    15773898   Lucchese          586  23.0       2       0.00   \n",
       "1  165035    15782418       Nott          683  46.0       2       0.00   \n",
       "2  165036    15807120         K?          656  34.0       7       0.00   \n",
       "3  165037    15808905  O'Donnell          681  36.0       8       0.00   \n",
       "4  165038    15607314    Higgins          752  38.0      10  121263.62   \n",
       "\n",
       "   NumOfProducts  HasCrCard  IsActiveMember  EstimatedSalary  \\\n",
       "0              2        0.0             1.0        160976.75   \n",
       "1              1        1.0             0.0         72549.27   \n",
       "2              2        1.0             0.0        138882.09   \n",
       "3              1        1.0             0.0        113931.57   \n",
       "4              1        1.0             0.0        139431.00   \n",
       "\n",
       "   Geography_France  Geography_Germany  Geography_Spain  Gender_Female  \\\n",
       "0                 1                  0                0              1   \n",
       "1                 1                  0                0              1   \n",
       "2                 1                  0                0              1   \n",
       "3                 1                  0                0              0   \n",
       "4                 0                  1                0              0   \n",
       "\n",
       "   Gender_Male  \n",
       "0            0  \n",
       "1            0  \n",
       "2            0  \n",
       "3            1  \n",
       "4            1  "
      ]
     },
     "execution_count": 19,
     "metadata": {},
     "output_type": "execute_result"
    }
   ],
   "source": [
    "# loading and preprocessing test data\n",
    "test_data = pd.read_csv('/kaggle/input/playground-series-s4e1/test.csv')\n",
    "test_data.head()\n",
    "test_data.isna().sum()\n",
    "test_data = pd.get_dummies(test_data, columns= ['Geography','Gender'])\n",
    "test_data = test_data.replace({True: 1, False: 0})\n",
    "test_data.head()"
   ]
  },
  {
   "cell_type": "code",
   "execution_count": 20,
   "id": "d77a29c1",
   "metadata": {
    "execution": {
     "iopub.execute_input": "2024-02-03T11:38:34.071122Z",
     "iopub.status.busy": "2024-02-03T11:38:34.070696Z",
     "iopub.status.idle": "2024-02-03T11:38:34.079481Z",
     "shell.execute_reply": "2024-02-03T11:38:34.078368Z"
    },
    "papermill": {
     "duration": 0.025646,
     "end_time": "2024-02-03T11:38:34.082022",
     "exception": false,
     "start_time": "2024-02-03T11:38:34.056376",
     "status": "completed"
    },
    "tags": []
   },
   "outputs": [],
   "source": [
    "#creates a feature 'X_test' with specific attributes from the 'test_data' dataset .\n",
    "X_test = test_data[['CreditScore', 'Age', 'Tenure', 'Balance', 'NumOfProducts', 'HasCrCard', 'IsActiveMember',\n",
    "            'EstimatedSalary', 'Geography_Germany', 'Geography_Spain', 'Geography_France','Gender_Male','Gender_Female']]\n"
   ]
  },
  {
   "cell_type": "code",
   "execution_count": 21,
   "id": "b99901fb",
   "metadata": {
    "execution": {
     "iopub.execute_input": "2024-02-03T11:38:34.109831Z",
     "iopub.status.busy": "2024-02-03T11:38:34.108966Z",
     "iopub.status.idle": "2024-02-03T11:38:36.923377Z",
     "shell.execute_reply": "2024-02-03T11:38:36.922033Z"
    },
    "papermill": {
     "duration": 2.832312,
     "end_time": "2024-02-03T11:38:36.926981",
     "exception": false,
     "start_time": "2024-02-03T11:38:34.094669",
     "status": "completed"
    },
    "tags": []
   },
   "outputs": [],
   "source": [
    "#Calculate predicted probabilities for positive class (churn) on the Test Dataset. \n",
    "\n",
    "test_predictions = model.predict_proba(X_test)[:, 1]\n"
   ]
  },
  {
   "cell_type": "code",
   "execution_count": 22,
   "id": "ef794233",
   "metadata": {
    "execution": {
     "iopub.execute_input": "2024-02-03T11:38:36.956168Z",
     "iopub.status.busy": "2024-02-03T11:38:36.955693Z",
     "iopub.status.idle": "2024-02-03T11:38:36.964621Z",
     "shell.execute_reply": "2024-02-03T11:38:36.963309Z"
    },
    "papermill": {
     "duration": 0.02646,
     "end_time": "2024-02-03T11:38:36.967143",
     "exception": false,
     "start_time": "2024-02-03T11:38:36.940683",
     "status": "completed"
    },
    "tags": []
   },
   "outputs": [
    {
     "data": {
      "text/plain": [
       "array([0.02738389, 0.80913481, 0.04607999, ..., 0.03159565, 0.17347012,\n",
       "       0.22054399])"
      ]
     },
     "execution_count": 22,
     "metadata": {},
     "output_type": "execute_result"
    }
   ],
   "source": [
    "test_predictions"
   ]
  },
  {
   "cell_type": "code",
   "execution_count": 23,
   "id": "475ca556",
   "metadata": {
    "execution": {
     "iopub.execute_input": "2024-02-03T11:38:36.995802Z",
     "iopub.status.busy": "2024-02-03T11:38:36.994579Z",
     "iopub.status.idle": "2024-02-03T11:38:37.374903Z",
     "shell.execute_reply": "2024-02-03T11:38:37.373419Z"
    },
    "papermill": {
     "duration": 0.39783,
     "end_time": "2024-02-03T11:38:37.378218",
     "exception": false,
     "start_time": "2024-02-03T11:38:36.980388",
     "status": "completed"
    },
    "tags": []
   },
   "outputs": [],
   "source": [
    "submission_df = pd.DataFrame({'id': test_data['id'], 'Exited': test_predictions})\n",
    "submission_df.to_csv('submission.csv', index=False)"
   ]
  },
  {
   "cell_type": "code",
   "execution_count": 24,
   "id": "55c268a3",
   "metadata": {
    "execution": {
     "iopub.execute_input": "2024-02-03T11:38:37.409586Z",
     "iopub.status.busy": "2024-02-03T11:38:37.409132Z",
     "iopub.status.idle": "2024-02-03T11:38:37.426906Z",
     "shell.execute_reply": "2024-02-03T11:38:37.425866Z"
    },
    "papermill": {
     "duration": 0.038074,
     "end_time": "2024-02-03T11:38:37.429498",
     "exception": false,
     "start_time": "2024-02-03T11:38:37.391424",
     "status": "completed"
    },
    "tags": []
   },
   "outputs": [
    {
     "data": {
      "text/html": [
       "<div>\n",
       "<style scoped>\n",
       "    .dataframe tbody tr th:only-of-type {\n",
       "        vertical-align: middle;\n",
       "    }\n",
       "\n",
       "    .dataframe tbody tr th {\n",
       "        vertical-align: top;\n",
       "    }\n",
       "\n",
       "    .dataframe thead th {\n",
       "        text-align: right;\n",
       "    }\n",
       "</style>\n",
       "<table border=\"1\" class=\"dataframe\">\n",
       "  <thead>\n",
       "    <tr style=\"text-align: right;\">\n",
       "      <th></th>\n",
       "      <th>id</th>\n",
       "      <th>Exited</th>\n",
       "    </tr>\n",
       "  </thead>\n",
       "  <tbody>\n",
       "    <tr>\n",
       "      <th>0</th>\n",
       "      <td>165034</td>\n",
       "      <td>0.027384</td>\n",
       "    </tr>\n",
       "    <tr>\n",
       "      <th>1</th>\n",
       "      <td>165035</td>\n",
       "      <td>0.809135</td>\n",
       "    </tr>\n",
       "    <tr>\n",
       "      <th>2</th>\n",
       "      <td>165036</td>\n",
       "      <td>0.046080</td>\n",
       "    </tr>\n",
       "    <tr>\n",
       "      <th>3</th>\n",
       "      <td>165037</td>\n",
       "      <td>0.203421</td>\n",
       "    </tr>\n",
       "    <tr>\n",
       "      <th>4</th>\n",
       "      <td>165038</td>\n",
       "      <td>0.322502</td>\n",
       "    </tr>\n",
       "    <tr>\n",
       "      <th>...</th>\n",
       "      <td>...</td>\n",
       "      <td>...</td>\n",
       "    </tr>\n",
       "    <tr>\n",
       "      <th>110018</th>\n",
       "      <td>275052</td>\n",
       "      <td>0.051100</td>\n",
       "    </tr>\n",
       "    <tr>\n",
       "      <th>110019</th>\n",
       "      <td>275053</td>\n",
       "      <td>0.099900</td>\n",
       "    </tr>\n",
       "    <tr>\n",
       "      <th>110020</th>\n",
       "      <td>275054</td>\n",
       "      <td>0.031596</td>\n",
       "    </tr>\n",
       "    <tr>\n",
       "      <th>110021</th>\n",
       "      <td>275055</td>\n",
       "      <td>0.173470</td>\n",
       "    </tr>\n",
       "    <tr>\n",
       "      <th>110022</th>\n",
       "      <td>275056</td>\n",
       "      <td>0.220544</td>\n",
       "    </tr>\n",
       "  </tbody>\n",
       "</table>\n",
       "<p>110023 rows × 2 columns</p>\n",
       "</div>"
      ],
      "text/plain": [
       "            id    Exited\n",
       "0       165034  0.027384\n",
       "1       165035  0.809135\n",
       "2       165036  0.046080\n",
       "3       165037  0.203421\n",
       "4       165038  0.322502\n",
       "...        ...       ...\n",
       "110018  275052  0.051100\n",
       "110019  275053  0.099900\n",
       "110020  275054  0.031596\n",
       "110021  275055  0.173470\n",
       "110022  275056  0.220544\n",
       "\n",
       "[110023 rows x 2 columns]"
      ]
     },
     "execution_count": 24,
     "metadata": {},
     "output_type": "execute_result"
    }
   ],
   "source": [
    "submission_df"
   ]
  },
  {
   "cell_type": "code",
   "execution_count": null,
   "id": "d85bb7de",
   "metadata": {
    "papermill": {
     "duration": 0.013298,
     "end_time": "2024-02-03T11:38:37.456014",
     "exception": false,
     "start_time": "2024-02-03T11:38:37.442716",
     "status": "completed"
    },
    "tags": []
   },
   "outputs": [],
   "source": []
  }
 ],
 "metadata": {
  "kaggle": {
   "accelerator": "none",
   "dataSources": [
    {
     "databundleVersionId": 7405009,
     "sourceId": 65711,
     "sourceType": "competition"
    }
   ],
   "dockerImageVersionId": 30646,
   "isGpuEnabled": false,
   "isInternetEnabled": true,
   "language": "python",
   "sourceType": "notebook"
  },
  "kernelspec": {
   "display_name": "Python 3",
   "language": "python",
   "name": "python3"
  },
  "language_info": {
   "codemirror_mode": {
    "name": "ipython",
    "version": 3
   },
   "file_extension": ".py",
   "mimetype": "text/x-python",
   "name": "python",
   "nbconvert_exporter": "python",
   "pygments_lexer": "ipython3",
   "version": "3.10.13"
  },
  "papermill": {
   "default_parameters": {},
   "duration": 46.347582,
   "end_time": "2024-02-03T11:38:38.394866",
   "environment_variables": {},
   "exception": null,
   "input_path": "__notebook__.ipynb",
   "output_path": "__notebook__.ipynb",
   "parameters": {},
   "start_time": "2024-02-03T11:37:52.047284",
   "version": "2.5.0"
  }
 },
 "nbformat": 4,
 "nbformat_minor": 5
}
